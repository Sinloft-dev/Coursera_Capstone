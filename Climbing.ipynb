{
 "cells": [
  {
   "cell_type": "markdown",
   "metadata": {},
   "source": [
    "# Climbing Gym in the city"
   ]
  },
  {
   "cell_type": "markdown",
   "metadata": {},
   "source": [
    "The interest for climbling gym in France is growing rapidly for a few years. We need to take the opportunity and open a Climbing Gym. The problem is to find a good place for it. Which city? Which Place?\n",
    "\n",
    "The first step is to find the best city. I'll use Foursquare to compare the number of climbing gym of the most important cities in France and divide it by the number of inhabitant of each one then choose the lowest.\n",
    "Next I must find the right place. Let's create cluster and try to discover in which kind of neighborhood are the best rated climbing gym. Also, if that's necessary to choose, I'll make some statistics about localization of competitors."
   ]
  },
  {
   "cell_type": "code",
   "execution_count": null,
   "metadata": {},
   "outputs": [],
   "source": []
  }
 ],
 "metadata": {
  "kernelspec": {
   "display_name": "Python 3",
   "language": "python",
   "name": "python3"
  },
  "language_info": {
   "codemirror_mode": {
    "name": "ipython",
    "version": 3
   },
   "file_extension": ".py",
   "mimetype": "text/x-python",
   "name": "python",
   "nbconvert_exporter": "python",
   "pygments_lexer": "ipython3",
   "version": "3.7.4"
  }
 },
 "nbformat": 4,
 "nbformat_minor": 2
}
